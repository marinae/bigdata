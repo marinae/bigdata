{
 "metadata": {
  "kernelspec": {
   "display_name": "Python 2",
   "language": "python",
   "name": "python2"
  },
  "language_info": {
   "codemirror_mode": {
    "name": "ipython",
    "version": 2
   },
   "file_extension": ".py",
   "mimetype": "text/x-python",
   "name": "python",
   "nbconvert_exporter": "python",
   "pygments_lexer": "ipython2",
   "version": "2.7.9"
  },
  "name": "",
  "signature": "sha256:309c339cec3d3fc2170aa5a613bd9f4acf0d6d0d75e2f019ee99892c6fa720ce"
 },
 "nbformat": 3,
 "nbformat_minor": 0,
 "worksheets": [
  {
   "cells": [
    {
     "cell_type": "heading",
     "level": 1,
     "metadata": {},
     "source": [
      "\u0414\u043e\u043c\u0430\u0448\u043d\u0435\u0435 \u0437\u0430\u0434\u0430\u043d\u0438\u0435 5. \u041b\u0438\u043d\u0435\u0439\u043d\u044b\u0435 \u043c\u043e\u0434\u0435\u043b\u0438"
     ]
    },
    {
     "cell_type": "code",
     "collapsed": false,
     "input": [
      "import random as pr\n",
      "import numpy as np\n",
      "import pandas as pd\n",
      "import matplotlib.pylab as pl\n",
      "import sklearn.cross_validation as cv\n",
      "import sklearn.metrics as sm\n",
      "\n",
      "# Plotting config\n",
      "%pylab inline"
     ],
     "language": "python",
     "metadata": {},
     "outputs": [
      {
       "output_type": "stream",
       "stream": "stdout",
       "text": [
        "Populating the interactive namespace from numpy and matplotlib\n"
       ]
      }
     ],
     "prompt_number": 1
    },
    {
     "cell_type": "markdown",
     "metadata": {},
     "source": [
      "\u0417\u0430\u0447\u0438\u0442\u044b\u0432\u0430\u0435\u043c \u0440\u0435\u0437\u0443\u043b\u044c\u0442\u0430\u0442 \u0438\u0437 \u0434\u043e\u043c\u0430\u0448\u043d\u0435\u0433\u043e \u0437\u0430\u0434\u0430\u043d\u0438\u044f 4"
     ]
    },
    {
     "cell_type": "code",
     "collapsed": false,
     "input": [
      "data = np.load(\"../files/out_4.dat.npz\")\n",
      "users = data[\"users\"]\n",
      "X = data[\"data\"].reshape(1,)[0]"
     ],
     "language": "python",
     "metadata": {
      "scrolled": true
     },
     "outputs": [],
     "prompt_number": 2
    },
    {
     "cell_type": "markdown",
     "metadata": {},
     "source": [
      "\u0417\u0430\u0447\u0438\u0442\u044b\u0432\u0430\u0435\u043c \u043a\u0430\u0442\u0435\u0433\u043e\u0440\u0438\u0438 \u043f\u043e\u043b\u044c\u0437\u043e\u0432\u0430\u0442\u0435\u043b\u0435\u0439"
     ]
    },
    {
     "cell_type": "code",
     "collapsed": false,
     "input": [
      "TRAINING_SET_URL = \"../files/twitter_train.txt\"\n",
      "df_users = pd.read_csv(TRAINING_SET_URL, sep=\",\", header=0, names=[\"user_id\", \"class\"], dtype={\"user_id\": str, \"class\": int})\n",
      "df_users.set_index(\"user_id\", inplace=True)"
     ],
     "language": "python",
     "metadata": {},
     "outputs": [],
     "prompt_number": 3
    },
    {
     "cell_type": "markdown",
     "metadata": {},
     "source": [
      "\u0424\u043e\u0440\u043c\u0438\u0440\u0443\u0435\u043c \u0446\u0435\u043b\u0435\u0432\u0443\u044e \u043f\u0435\u0440\u0435\u043c\u0435\u043d\u043d\u0443\u044e: \u0414\u0435\u043b\u0430\u0435\u043c join \u0441\u043f\u0438\u0441\u043a\u0430 \u043f\u043e\u043b\u044c\u0437\u043e\u0432\u0430\u0442\u0435\u043b\u0435\u0439 \u0438\u0437 \u0414\u04174 \u0441 \u043e\u0431\u0443\u0447\u0430\u044e\u0449\u0435\u0439 \u0432\u044b\u0431\u043e\u0440\u043a\u043e\u0439."
     ]
    },
    {
     "cell_type": "code",
     "collapsed": false,
     "input": [
      "Y = df_users.ix[users.astype(str)][\"class\"].values\n",
      "print \"Resulting training set: (%dx%d) feature matrix, %d target vector\" % (X.shape[0], X.shape[1], Y.shape[0])"
     ],
     "language": "python",
     "metadata": {},
     "outputs": [
      {
       "output_type": "stream",
       "stream": "stdout",
       "text": [
        "Resulting training set: (8000x294972) feature matrix, 8000 target vector\n"
       ]
      }
     ],
     "prompt_number": 4
    },
    {
     "cell_type": "markdown",
     "metadata": {},
     "source": [
      "\u0427\u0442\u043e\u0431\u044b \u0438\u0441\u0441\u043b\u0435\u0434\u043e\u0432\u0430\u0442\u044c, \u043a\u0430\u043a \u0432\u0435\u0434\u0443\u0442 \u0441\u0435\u0431\u044f \u043f\u0440\u0438\u0437\u043d\u0430\u043a\u0438, \u043f\u043e\u0441\u0442\u0440\u043e\u0438\u043c \u0440\u0430\u0441\u043f\u0440\u0435\u0434\u0435\u043b\u0435\u043d\u0438\u0435 \u043a\u043e\u043b\u0438\u0447\u0435\u0441\u0442\u0432\u0430 \u043d\u0435\u043d\u0443\u043b\u0435\u0432\u044b\u0445 \u043f\u0440\u0438\u0437\u043d\u0430\u043a\u043e\u0432 \u0443 \u043f\u043e\u043b\u044c\u0437\u043e\u0432\u0430\u0442\u0435\u043b\u0435\u0439, \u0447\u0442\u043e\u0431\u044b \u0443\u0431\u0435\u0434\u0438\u0442\u044c\u0441\u044f, \u0447\u0442\u043e \u043e\u043d \u0443\u0434\u043e\u0432\u043b\u0435\u0442\u0432\u043e\u0440\u044f\u0435\u0442 \u0437\u0430\u043a\u043e\u043d\u0443 \u0426\u0438\u043f\u0444\u0430. \u0414\u043b\u044f \u044d\u0442\u043e\u0433\u043e \u043f\u043e\u0441\u0442\u0440\u043e\u0438\u043c \u0433\u0438\u0441\u0442\u043e\u0433\u0440\u0430\u043c\u043c\u0443 \u0432 \u043b\u043e\u0433\u0430\u0440\u0438\u0444\u043c\u0438\u0447\u0435\u0441\u043a\u0438\u0445 \u043e\u0441\u044f\u0445. [\u041f\u043e\u0434\u0441\u043a\u0430\u0437\u043a\u0430](http://anokhin.github.io/img/sf1.png)"
     ]
    },
    {
     "cell_type": "code",
     "collapsed": false,
     "input": [
      "def draw_log_hist(x):\n",
      "    \n",
      "    # Feature_array[i] contains number of users having feature[i]\n",
      "    feature_counts = np.asarray(X.astype(bool).sum(axis=0))\n",
      "    feature_array = feature_counts[0]\n",
      "\n",
      "    # Feature_user_counts[i] contains number of features that occure for i users\n",
      "    # Axis Y for our figure\n",
      "    feature_user_counts = np.bincount(feature_array)[1:]\n",
      "    \n",
      "    # Axis X for our figure\n",
      "    user_counts = np.arange(1, len(feature_user_counts) + 1)\n",
      "    \n",
      "    # Take logarithm of data\n",
      "    log_user = log(user_counts)\n",
      "    log_feature = log(feature_user_counts)\n",
      "\n",
      "    # Draw figure\n",
      "    fig = plt.figure(figsize=(8, 5))\n",
      "    ax = fig.add_subplot(111)\n",
      "    ax.set_xlim([0, max(log_user)])\n",
      "    ax.set_ylim([0, max(log_feature)])\n",
      "    ax.scatter(log_user, log_feature, linewidth=0)\n",
      "    plt.xlabel(\"Number of users for whom some feature occured x times (logarithm)\")\n",
      "\n",
      "    return feature_array\n",
      "\n",
      "col_counts = draw_log_hist(X)"
     ],
     "language": "python",
     "metadata": {},
     "outputs": [
      {
       "metadata": {},
       "output_type": "display_data",
       "png": "[encoded data removed]",
       "text": [
        "<matplotlib.figure.Figure at 0x104138290>"
       ]
      }
     ],
     "prompt_number": 5
    },
    {
     "cell_type": "markdown",
     "metadata": {},
     "source": [
      "\u041f\u0440\u043e\u0432\u0435\u0434\u0435\u043c \u043e\u0442\u0431\u043e\u0440 \u043f\u0440\u0438\u0437\u043d\u0430\u043a\u043e\u0432. \u0412 \u0441\u0430\u043c\u043e\u043c \u043f\u0440\u043e\u0441\u0442\u043e\u043c \u0441\u043b\u0443\u0447\u0430\u0435 \u043f\u0440\u043e\u0441\u0442\u043e \u0443\u0434\u0430\u043b\u044f\u0435\u043c \u043f\u0440\u0438\u0437\u043d\u0430\u043a\u0438, \u0438\u043c\u0435\u044e\u0449\u0438\u0435 \u043d\u0435\u043d\u0443\u043b\u0435\u0432\u043e\u0435 \u0437\u043d\u0430\u0447\u0435\u043d\u0438\u0435 \u0443 \u043c\u0435\u043d\u0435\u0435, \u0447\u0435\u043c 100 \u043f\u043e\u043b\u044c\u0437\u043e\u0432\u0430\u0442\u0435\u043b\u0435\u0439."
     ]
    },
    {
     "cell_type": "code",
     "collapsed": false,
     "input": [
      "X1 = X.tocsc()[:, col_counts > 100].toarray()"
     ],
     "language": "python",
     "metadata": {},
     "outputs": [],
     "prompt_number": 6
    },
    {
     "cell_type": "markdown",
     "metadata": {},
     "source": [
      "\u0412\u0430\u0440\u0438\u0430\u043d\u0442 \u0437\u0430\u0434\u0430\u043d\u0438\u044f \u0433\u0435\u043d\u0435\u0440\u0438\u0440\u0443\u0435\u0442\u0441\u044f \u043d\u0430 \u043e\u0441\u043d\u043e\u0432\u0430\u043d\u0438\u0438 \u0432\u0430\u0448\u0435\u0433\u043e \u043d\u0438\u043a\u0430 \u0432 \u0442\u0435\u0445\u043d\u043e\u0441\u0444\u0435\u0440\u0435."
     ]
    },
    {
     "cell_type": "code",
     "collapsed": false,
     "input": [
      "USER_NAME = \"m.ermakova\"\n",
      "OPTIMIZATION_ALGORITHMS = [\"stochastic gradient descent\", \"Newton method\"]\n",
      "REGULARIZATIONS = [\"L1\", \"L2\"]\n",
      "\n",
      "print \"My homework 5 algorithm is: Logistic regression with %s regularization optimized by %s\" % (\n",
      "    REGULARIZATIONS[hash(USER_NAME) % 2],\n",
      "    OPTIMIZATION_ALGORITHMS[hash(USER_NAME[::-1]) % 2]\n",
      ")"
     ],
     "language": "python",
     "metadata": {},
     "outputs": [
      {
       "output_type": "stream",
       "stream": "stdout",
       "text": [
        "My homework 5 algorithm is: Logistic regression with L2 regularization optimized by Newton method\n"
       ]
      }
     ],
     "prompt_number": 7
    },
    {
     "cell_type": "markdown",
     "metadata": {},
     "source": [
      "\u0420\u0435\u0430\u043b\u0438\u0437\u0443\u0435\u043c \u0432\u044b\u0431\u0440\u0430\u043d\u043d\u044b\u0439 \u0430\u043b\u0433\u043e\u0440\u0438\u0442\u043c. \u041d\u0435\u043e\u0431\u0445\u043e\u0434\u0438\u043c\u043e \u0441\u0434\u0435\u043b\u0430\u0442\u044c \u0441\u043e\u0431\u0441\u0442\u0432\u0435\u043d\u043d\u0443\u044e \u0440\u0435\u0430\u043b\u0438\u0437\u0430\u0446\u0438\u044e \u0430\u043b\u0433\u043e\u0440\u0438\u0442\u043c\u0430, \u043d\u0435 \u0438\u0441\u043f\u043e\u043b\u044c\u0437\u0443\u044f \u0440\u0435\u0430\u043b\u0438\u0437\u0430\u0446\u0438\u0438 \u0432 \u0431\u0438\u0431\u043b\u0438\u043e\u0442\u0435\u043a\u0430\u0445."
     ]
    },
    {
     "cell_type": "code",
     "collapsed": false,
     "input": [
      "def sigm(z):\n",
      "    \n",
      "    # Sigmoid function\n",
      "    return np.clip(1.0 / (1 + exp(-z)), 0.000000000001, 0.999999999999)\n",
      "\n",
      "def cur_diff(w_prev, w_cur):\n",
      "    \n",
      "    # Quadratic difference between w_(n-1) and w_n\n",
      "    return np.dot(w_cur - w_prev, w_cur - w_prev)"
     ],
     "language": "python",
     "metadata": {},
     "outputs": [],
     "prompt_number": 8
    },
    {
     "cell_type": "code",
     "collapsed": false,
     "input": [
      "class LogisticRegression():\n",
      "    \n",
      "    def __init__(self, C=1, prec=0.1, max_iter=10):\n",
      "        \n",
      "        # L2 regularization strength\n",
      "        self.C = C\n",
      "        # Precision of weights computation\n",
      "        self.prec = prec\n",
      "        # Maximum number of iterations\n",
      "        self.max_iter = max_iter\n",
      "    \n",
      "    def fit(self, X, Y):\n",
      "        \n",
      "        # Initialize weights\n",
      "        prev_weights = np.zeros(len(X[1]) + 1)\n",
      "        prev_weights.fill(inf)\n",
      "        self.weights = np.zeros(len(X[1]) + 1)\n",
      "        self.weights[0] = log(np.mean(Y) / (1 - np.mean(Y)))\n",
      "        # Add \"constant\" column to X\n",
      "        X = np.insert(X, 0, values=1, axis=1)\n",
      "        # Current iterations count\n",
      "        it = 0\n",
      "        diff = +inf\n",
      "\n",
      "        # Iterate until convergence or exceeding limits\n",
      "        while (it < self.max_iter and diff > self.prec):\n",
      "            # Recompute parameters\n",
      "            eta = np.dot(X, self.weights)\n",
      "            mu = sigm(eta)\n",
      "            s = mu * (1 - mu)\n",
      "            z = eta + (Y - mu) / s\n",
      "            S = np.diag(s)\n",
      "            # Identity matrix with I[0][0] = 0\n",
      "            eye_vect = np.ones(len(X[0]))\n",
      "            eye_vect[0] = 0\n",
      "            eye_matr = np.diag(eye_vect)\n",
      "            # Recompute weights with IRLS for Newton method\n",
      "            prev_weights = self.weights\n",
      "            temp = np.dot(np.dot(X.T, S), X)\n",
      "            temp = temp + self.C * eye_matr\n",
      "            temp = np.linalg.inv(temp)\n",
      "            temp = np.dot(temp, X.T)\n",
      "            temp = np.dot(temp, S)\n",
      "            self.weights = np.dot(temp, z)\n",
      "            print self.weights\n",
      "            # Recompute difference of weights\n",
      "            diff = cur_diff(prev_weights, self.weights)\n",
      "            # Print current state\n",
      "            print \"Iteration %d: diff = %s\" % (it, diff)\n",
      "            # Increment iteration number\n",
      "            it = it + 1\n",
      "        \n",
      "        return self\n",
      "    \n",
      "    def predict_proba(self, X):\n",
      "        \n",
      "        # Add \"constant\" column to X\n",
      "        X = np.insert(X, 0, values=1, axis=1)\n",
      "        # Compute probabilities\n",
      "        eta = np.dot(X, self.weights)\n",
      "        mu = sigm(eta)\n",
      "        return mu"
     ],
     "language": "python",
     "metadata": {},
     "outputs": [],
     "prompt_number": 9
    },
    {
     "cell_type": "markdown",
     "metadata": {},
     "source": [
      "\u0420\u0435\u0430\u043b\u0438\u0437\u0443\u0435\u043c \u043c\u0435\u0442\u0440\u0438\u043a\u0443 \u043a\u0430\u0447\u0435\u0441\u0442\u0432\u0430, \u0438\u0441\u043f\u043e\u043b\u044c\u0437\u0443\u0435\u043c\u0443\u044e \u0432 \u0441\u043e\u0440\u0435\u0432\u043d\u043e\u0432\u0430\u043d\u0438\u0438: \u043f\u043b\u043e\u0449\u0430\u0434\u044c \u043f\u043e\u0434 ROC \u043a\u0440\u0438\u0432\u043e\u0439. \u041d\u0435\u043e\u0431\u0445\u043e\u0434\u0438\u043c\u043e \u0441\u0434\u0435\u043b\u0430\u0442\u044c \u0441\u043e\u0431\u0441\u0442\u0432\u0435\u043d\u043d\u0443\u044e \u0440\u0435\u0430\u043b\u0438\u0437\u0430\u0446\u0438\u044e \u0430\u043b\u0433\u043e\u0440\u0438\u0442\u043c\u0430, \u043d\u0435 \u0438\u0441\u043f\u043e\u043b\u044c\u0437\u0443\u044f \u0440\u0435\u0430\u043b\u0438\u0437\u0430\u0446\u0438\u0438 \u0432 \u0431\u0438\u0431\u043b\u0438\u043e\u0442\u0435\u043a\u0430\u0445."
     ]
    },
    {
     "cell_type": "code",
     "collapsed": true,
     "input": [
      "def compute_distribution(pos, neg, step=0.01):\n",
      "    \n",
      "    # Compute number of both classes at each point\n",
      "    distrib = np.zeros((1.0 / step + 1, 2))\n",
      "    for i in neg:\n",
      "        distrib[i / step][0] += 1\n",
      "    for i in pos:\n",
      "        distrib[i / step][1] += 1\n",
      "    return distrib\n",
      "\n",
      "def compute_rates(distrib):\n",
      "    \n",
      "    # Compute TPR and FPR at each point\n",
      "    tpr = np.zeros(len(distrib))\n",
      "    fpr = np.zeros(len(distrib))\n",
      "    sums = np.sum(distrib, axis=0)\n",
      "    for i in xrange(len(distrib)):\n",
      "        cur_sum = np.sum(distrib[i:], axis=0)\n",
      "        tpr[i] = cur_sum[1] / sums[1]\n",
      "        fpr[i] = cur_sum[0] / sums[0]\n",
      "    return tpr, fpr\n",
      "\n",
      "def compute_area(tpr, fpr):\n",
      "    \n",
      "    # Compute area under curve defined by points\n",
      "    area = 0\n",
      "    for i in xrange(len(fpr) - 1):\n",
      "        i1 = len(fpr) - i - 1\n",
      "        i2 = len(fpr) - i - 2\n",
      "        # Use trapezoidal rule\n",
      "        area += (fpr[i2] - fpr[i1]) * (tpr[i1] + tpr[i2]) / 2\n",
      "    return area\n",
      "\n",
      "def auroc(y_prob, y_true):\n",
      "    \n",
      "    # Compute area under ROC curve\n",
      "    y_prob_round = np.around(y_prob, decimals=2)\n",
      "    # Separate probabilities for positive and negative items\n",
      "    pos = np.array([y_prob_round[i] for i in xrange(len(y_prob_round)) if y_true[i] == 1])\n",
      "    neg = np.array([y_prob_round[i] for i in xrange(len(y_prob_round)) if y_true[i] == 0])\n",
      "    # Compute number of both classes at each point\n",
      "    distrib = compute_distribution(pos, neg, step=0.01)\n",
      "    # Compute TPR and FPR at each point\n",
      "    tpr, fpr = compute_rates(distrib)\n",
      "    # Compute area under curve defined by points\n",
      "    return tpr, fpr, compute_area(tpr, fpr)"
     ],
     "language": "python",
     "metadata": {},
     "outputs": [],
     "prompt_number": 10
    },
    {
     "cell_type": "markdown",
     "metadata": {},
     "source": [
      "\u0420\u0430\u0437\u0434\u0435\u043b\u0438\u043c \u0432\u044b\u0431\u043e\u0440\u043a\u0443 \u0441 \u043f\u043e\u043c\u043e\u0449\u044c\u044e \u043c\u0435\u0442\u043e\u0434\u0438\u043a\u0438 \u043a\u0440\u043e\u0441\u0441-\u0432\u0430\u043b\u0438\u0434\u0430\u0446\u0438\u0438 \u0434\u043b\u044f \u0442\u043e\u0433\u043e, \u0447\u0442\u043e\u0431\u044b \u043d\u0430\u0441\u0442\u0440\u043e\u0438\u0442\u044c \u043f\u0430\u0440\u0430\u043c\u0435\u0442\u0440 \u0440\u0435\u0433\u0443\u043b\u044f\u0440\u0438\u0437\u0430\u0446\u0438\u0438 $C$. \u0414\u043b\u044f \u0440\u0435\u0430\u043b\u0438\u0437\u0430\u0446\u0438\u0438 \u043c\u043e\u0436\u043d\u043e \u0438\u0441\u043f\u043e\u043b\u044c\u0437\u043e\u0432\u0430\u0442\u044c \u043a\u043b\u0430\u0441\u0441 StratifiedKFold \u0438\u0437 sklearn.cross_validation. \u041d\u0435\u043e\u0431\u0445\u043e\u0434\u0438\u043c\u043e \u0432\u044b\u0431\u0440\u0430\u0442\u044c \u0442\u0430\u043a\u043e\u0439 \u043f\u0430\u0440\u0430\u043c\u0435\u0442\u0440 \u0440\u0435\u0433\u0443\u043b\u044f\u0440\u0438\u0437\u0430\u0446\u0438\u0438, \u043a\u043e\u0442\u043e\u0440\u044b\u0439 \u043c\u0430\u043a\u0441\u0438\u043c\u0438\u0437\u0438\u0440\u0443\u0435\u0442 \u043f\u043b\u043e\u0449\u0430\u0434\u044c \u043f\u043e\u0434 ROC \u043a\u0440\u0438\u0432\u043e\u0439."
     ]
    },
    {
     "cell_type": "code",
     "collapsed": false,
     "input": [
      "# L2 regularization variants\n",
      "C = [0.0, 0.01, 0.1, 1, 10, 100, 1000, 10000]\n",
      "\n",
      "\"\"\"\n",
      "# Divide all data by 2 sets: train and test\n",
      "n_folds = 2\n",
      "skf = cv.StratifiedKFold(Y, n_folds=n_folds)\n",
      "\n",
      "def select_reg_parameter(C, X, Y):\n",
      "\n",
      "    # Select L2 regularization parameter\n",
      "    areas = np.zeros(len(C))\n",
      "    for i in xrange(len(C)):\n",
      "        print \"Trying C = %f\" % C[i]\n",
      "        sum_area = 0\n",
      "        for train_index, test_index in skf:\n",
      "            # Predict for partial data\n",
      "            print \"Trying on partial data\"\n",
      "            logreg = LogisticRegression(C=C[i], max_iter=15)\n",
      "            logreg.fit(X[train_index], Y[train_index])\n",
      "            y_prob = logreg.predict_proba(X[test_index])\n",
      "            tpr, fpr, cur_area = auroc(y_prob, Y[test_index])\n",
      "            sum_area += cur_area\n",
      "            print \"Result area = %f\" % cur_area\n",
      "        # Divide by number of tries\n",
      "        areas[i] = sum_area / n_folds\n",
      "        print \"Area under ROC for C = %f is %f\" % (C[i], areas[i])\n",
      "    return np.argmax(areas)\n",
      "\n",
      "index = select_reg_parameter(C, X1, Y)\n",
      "print index\n",
      "\"\"\"\n",
      "areas = np.array([0, 0.761424, 0.776977, 0.804697, 0.832569, 0.856045, 0.862478, 0.841754])\n",
      "index = np.argmax(areas)\n",
      "print \"Works too long! Does not converge without regularization.\"\n",
      "print \"Optimal C is %0.2f, area under the ROC curve is %f\" % (C[index], areas[index])"
     ],
     "language": "python",
     "metadata": {},
     "outputs": [
      {
       "output_type": "stream",
       "stream": "stdout",
       "text": [
        "Works too long! Does not converge without regularization.\n",
        "Optimal C is 1000.00, area under the ROC curve is 0.862478\n"
       ]
      }
     ],
     "prompt_number": 12
    },
    {
     "cell_type": "markdown",
     "metadata": {},
     "source": [
      "\u0412\u044b\u0431\u0438\u0440\u0430\u0435\u043c \u043d\u0430\u0438\u043b\u0443\u0447\u0448\u0435\u0435 \u0437\u043d\u0430\u0447\u0435\u043d\u0438\u0435 $C$, \u043a\u043b\u0430\u0441\u0441\u0438\u0444\u0438\u0446\u0438\u0440\u0443\u0435\u043c \u043d\u0435\u0438\u0437\u0432\u0435\u0441\u0442\u043d\u044b\u0445 \u043f\u043e\u043b\u044c\u0437\u043e\u0432\u0430\u0442\u0435\u043b\u0435\u0439 \u0438 \u0441\u0442\u0440\u043e\u0438\u043c ROC-\u043a\u0440\u0438\u0432\u0443\u044e"
     ]
    },
    {
     "cell_type": "code",
     "collapsed": false,
     "input": [
      "def classify(X, Y, test_size, C):\n",
      "    \n",
      "    # Test classifier on 0.3 of data\n",
      "    x_train, x_test, y_train, y_test = cv.train_test_split(X1, Y, test_size=test_size)\n",
      "    logreg = LogisticRegression(C=C, max_iter=15)\n",
      "    logreg.fit(x_train, y_train)\n",
      "    y_prob = logreg.predict_proba(x_test)\n",
      "    \n",
      "    return auroc(y_prob, y_test)\n",
      "\n",
      "tpr, fpr, roc_auc = classify(X1, Y, 0.3, C[index])\n",
      "print \"Area under the ROC curve : %f\" % roc_auc"
     ],
     "language": "python",
     "metadata": {},
     "outputs": [
      {
       "output_type": "stream",
       "stream": "stdout",
       "text": [
        "[-1.10854407  0.01065573  0.00723303 ...,  0.01465822  0.00624442\n",
        "  0.00836785]\n",
        "Iteration 0: diff = 0.951943143141\n",
        "[-1.34512017  0.01026014  0.00509148 ...,  0.02003537  0.00346406\n",
        "  0.0077362 ]"
       ]
      },
      {
       "output_type": "stream",
       "stream": "stdout",
       "text": [
        "\n",
        "Iteration 1: diff = 0.0918949327463\n",
        "Area under the ROC curve : 0.872481"
       ]
      },
      {
       "output_type": "stream",
       "stream": "stdout",
       "text": [
        "\n"
       ]
      }
     ],
     "prompt_number": 21
    },
    {
     "cell_type": "code",
     "collapsed": false,
     "input": [
      "def plot_roc_curve(tpr, fpr, roc_auc):\n",
      "    \n",
      "    fig = plt.figure(figsize=(5, 5))\n",
      "    ax = fig.add_subplot(111)\n",
      "    ax.set_xlim([0, 1])\n",
      "    ax.set_ylim([0, 1])\n",
      "    plt.plot(fpr, tpr, color='green')\n",
      "    plt.plot([0, 1], [0, 1], color='black')\n",
      "    pl.fill_between(fpr, tpr, alpha=0.3, color='green')\n",
      "    pl.text(0.6, 0.2, \"%0.3f\" % roc_auc, fontsize=25)\n",
      "    plt.xlabel(\"FPR\", fontsize=15)\n",
      "    plt.ylabel(\"TPR\", fontsize=15)\n",
      "    plt.show()\n",
      "    \n",
      "    return\n",
      "\n",
      "plot_roc_curve(tpr, fpr, roc_auc)"
     ],
     "language": "python",
     "metadata": {},
     "outputs": [
      {
       "metadata": {},
       "output_type": "display_data",
       "png": "[encoded data removed]",
       "text": [
        "<matplotlib.figure.Figure at 0x10c404d10>"
       ]
      }
     ],
     "prompt_number": 51
    },
    {
     "cell_type": "markdown",
     "metadata": {},
     "source": [
      "\u0421 \u043f\u043e\u043c\u043e\u0449\u044c\u044e \u043f\u043e\u043b\u0443\u0447\u0435\u043d\u043d\u043e\u0439 \u043c\u043e\u0434\u0435\u043b\u0438 \u043f\u0440\u0435\u0434\u0441\u043a\u0430\u0437\u044b\u0432\u0430\u0435\u043c \u043a\u0430\u0442\u0435\u0433\u043e\u0440\u0438\u0438 \u0434\u043b\u044f \u043d\u0435\u0438\u0437\u0432\u0435\u0441\u0442\u043d\u044b\u0445 \u043f\u043e\u043b\u044c\u0437\u043e\u0432\u0430\u0442\u0435\u043b\u0435\u0439 \u0438\u0437 \u0441\u043e\u0440\u0435\u0432\u043d\u043e\u0432\u0430\u043d\u0438\u044f \u0438 \u0437\u0430\u0433\u0440\u0443\u0436\u0430\u0435\u043c \u043d\u0430 kaggle \u0432 \u043d\u0443\u0436\u043d\u043e\u043c \u0444\u043e\u0440\u043c\u0430\u0442\u0435."
     ]
    }
   ],
   "metadata": {}
  }
 ]
}